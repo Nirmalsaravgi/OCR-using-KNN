{
 "cells": [
  {
   "cell_type": "code",
   "execution_count": null,
   "id": "453adf78",
   "metadata": {},
   "outputs": [],
   "source": [
    "import matplotlib.pyplot as plt\n",
    "from sklearn import datasets\n",
    "from sklearn.model_selection import train_test_split\n",
    "from sklearn.neighbors import KNeighborsClassifier"
   ]
  },
  {
   "cell_type": "code",
   "execution_count": null,
   "id": "d539fb18",
   "metadata": {},
   "outputs": [],
   "source": [
    "digits = datasets.load_digits()"
   ]
  },
  {
   "cell_type": "code",
   "execution_count": null,
   "id": "dd1a7d5b",
   "metadata": {},
   "outputs": [],
   "source": [
    "digits.target[1700]"
   ]
  },
  {
   "cell_type": "code",
   "execution_count": null,
   "id": "f573a62b",
   "metadata": {},
   "outputs": [],
   "source": [
    "samplefeatures = digits.data\n",
    "labels = digits.target"
   ]
  },
  {
   "cell_type": "code",
   "execution_count": null,
   "id": "d030e0c9",
   "metadata": {},
   "outputs": [],
   "source": [
    "training, testing, trainlab, testlab = train_test_split(samplefeatures, labels, test_size = 0.2, random_state = 42)"
   ]
  },
  {
   "cell_type": "code",
   "execution_count": null,
   "id": "306c9acd",
   "metadata": {},
   "outputs": [],
   "source": [
    "knn = KNeighborsClassifier(n_neighbors = 7)"
   ]
  },
  {
   "cell_type": "code",
   "execution_count": null,
   "id": "00886d64",
   "metadata": {},
   "outputs": [],
   "source": [
    "knn.fit(training, trainlab)"
   ]
  },
  {
   "cell_type": "code",
   "execution_count": null,
   "id": "1e6fc6d2",
   "metadata": {},
   "outputs": [],
   "source": [
    "len(testing)"
   ]
  },
  {
   "cell_type": "code",
   "execution_count": null,
   "id": "aa0f77d1",
   "metadata": {},
   "outputs": [],
   "source": [
    "knn.predict(testing[[359]])"
   ]
  },
  {
   "cell_type": "code",
   "execution_count": null,
   "id": "94505066",
   "metadata": {},
   "outputs": [],
   "source": [
    "testlab[359]"
   ]
  },
  {
   "cell_type": "code",
   "execution_count": null,
   "id": "2d580081",
   "metadata": {},
   "outputs": [],
   "source": [
    "print(knn.score(testing, testlab))"
   ]
  }
 ],
 "metadata": {
  "kernelspec": {
   "display_name": "Python 3 (ipykernel)",
   "language": "python",
   "name": "python3"
  },
  "language_info": {
   "codemirror_mode": {
    "name": "ipython",
    "version": 3
   },
   "file_extension": ".py",
   "mimetype": "text/x-python",
   "name": "python",
   "nbconvert_exporter": "python",
   "pygments_lexer": "ipython3",
   "version": "3.11.3"
  }
 },
 "nbformat": 4,
 "nbformat_minor": 5
}
